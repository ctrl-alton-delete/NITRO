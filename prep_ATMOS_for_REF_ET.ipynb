{
 "cells": [
  {
   "cell_type": "markdown",
   "metadata": {},
   "source": [
    "# Prepare ATMOS file for REF ET"
   ]
  },
  {
   "cell_type": "markdown",
   "metadata": {},
   "source": [
    "### Import needed libraries"
   ]
  },
  {
   "cell_type": "code",
   "execution_count": 1,
   "metadata": {},
   "outputs": [],
   "source": [
    "import pandas as pd\n",
    "import numpy as np\n",
    "import refet\n",
    "import pytz"
   ]
  },
  {
   "cell_type": "code",
   "execution_count": 2,
   "metadata": {},
   "outputs": [],
   "source": [
    "# where is the file coming from? A CSI Logger? ZentraCloud? Decagon Webviewer? ZentraUtility? ECH2O Utility?\n",
    "# some other custom format? We need to have sensible defaults to make this as easy as possible.\n",
    "#filename = input(\"Em60 Data file: \")\n",
    "\n",
    "dfp1 = pd.read_excel(\"/home/acampbell/Public/06-00173 24May18-1146.xlsx\",\n",
    "             header=[0,1,2], \n",
    "             #index_col=0,\n",
    "             )\n",
    "dfp2 = pd.read_excel(\"/home/acampbell/Public/06-00173 30May18-0956.xlsx\",\n",
    "             header=[0,1,2], \n",
    "             #index_col=0,\n",
    "             )\n",
    "df3 = pd.read_excel(\"/home/acampbell/Public/06-00173 01Jun18-1242.xlsx\",\n",
    "             header=[0,1,2],\n",
    "             #index_col=0,\n",
    "             )\n",
    "\n",
    "df = dfp1.append(dfp2.append(df3))"
   ]
  },
  {
   "cell_type": "markdown",
   "metadata": {},
   "source": [
    "### Cut the needed columns"
   ]
  },
  {
   "cell_type": "code",
   "execution_count": 3,
   "metadata": {},
   "outputs": [],
   "source": [
    "result = df['Port 1']['ATMOS 41 All-in-one Weather Station'][\n",
    "    [\n",
    "        'W/m² Solar Radiation',\n",
    "        'm/s Wind Speed',\n",
    "        'RH Relative Humidity',\n",
    "        'mm Precipitation',\n",
    "        '°C Air Temperature',\n",
    "    ]\n",
    "]"
   ]
  },
  {
   "cell_type": "markdown",
   "metadata": {},
   "source": [
    "### Bin data to be hourly"
   ]
  },
  {
   "cell_type": "code",
   "execution_count": 4,
   "metadata": {},
   "outputs": [],
   "source": [
    "hourly = result.resample('H').mean()\n",
    "hourly['mm Precipitation'] = result['mm Precipitation'].resample('H').sum()"
   ]
  },
  {
   "cell_type": "code",
   "execution_count": 5,
   "metadata": {},
   "outputs": [],
   "source": [
    "#result['Time'] = result.index.time\n",
    "\n",
    "#result['Date'] = result.index.date\n",
    "\n",
    "#### REF ET program requires times to be in hhmm format\n",
    "\n",
    "#result['Time']=result['Time'].apply(str).apply(lambda x: x[0:2]+x[3:5])\n",
    "\n",
    "#### REF ET program requires dates to be in yyyymmdd format\n",
    "\n",
    "#result['Date']=result['Date'].apply(str).apply(lambda x: x[0:4]+x[5:7]+x[8:10])\n",
    "\n",
    "### Output the CSV file\n",
    "\n",
    "#result.to_csv(\"Public/21may18 ATMOS.csv\",sep=\",\",index=False,)"
   ]
  },
  {
   "cell_type": "markdown",
   "metadata": {},
   "source": [
    "## Prepare data for use with refet python library"
   ]
  },
  {
   "cell_type": "code",
   "execution_count": null,
   "metadata": {},
   "outputs": [],
   "source": []
  },
  {
   "cell_type": "code",
   "execution_count": 6,
   "metadata": {},
   "outputs": [],
   "source": [
    "## ea -- VP (array) CONVERT FROM RH\n",
    "# RH = vp/vps, where vp is vapor pressure, and vps is saturation vapor pressure.\n",
    "# vps can be found using Teten's formula.\n",
    "# P = 0.61078 exp(17.27*T/(T+237.3)) for T over 0 C\n",
    "hourly['VP kPa'] = hourly['RH Relative Humidity'] * (\n",
    "    0.61078 ** (\n",
    "        17.27*hourly['°C Air Temperature']/(\n",
    "            hourly['°C Air Temperature'] + 237.3)\n",
    "    )\n",
    ")\n",
    "ea = hourly['VP kPa']\n",
    "\n",
    "## rs -- Solar Radiation (array) UNIT MISMATCH, use input_units dict\n",
    "rs = hourly['W/m² Solar Radiation']\n",
    "\n",
    "## uz -- wind speed (array)\n",
    "uz = hourly['m/s Wind Speed']\n",
    "\n",
    "## zw -- wind speed height (float)\n",
    "zw = 2 # 2m\n",
    "\n",
    "## elev -- elevation (array)\n",
    "hourly['elev'] = 1408\n",
    "elev = hourly['elev'] # 1408m above sea level\n",
    "\n",
    "## lat -- latitude in degrees (array)\n",
    "hourly['lat'] = 40.246025\n",
    "lat = hourly['lat']\n",
    "\n",
    "## doy -- day of year (array)\n",
    "# This can be calculated using Pandas.\n",
    "doy = hourly.index.dayofyear\n",
    "\n",
    "## tmean -- average temperature (array)\n",
    "tmean = hourly['°C Air Temperature']\n",
    "\n",
    "## lon -- longitude in degrees (array)\n",
    "hourly['lon'] = 111.64134\n",
    "lon = hourly['lon']\n",
    "\n",
    "## time -- UTC hour at start of time period (array)\n",
    "time = hourly.index.tz_localize(\"America/Denver\").tz_convert(None).hour\n",
    "\n",
    "## method -- 'refet' to follow RefET software\n",
    "method = 'refet'\n",
    "\n",
    "## input_units -- {'rs':'w/m2'} Everything else mathces the default units\n",
    "input_units = {'rs':'w/m2'}\n"
   ]
  },
  {
   "cell_type": "code",
   "execution_count": 7,
   "metadata": {},
   "outputs": [
    {
     "name": "stderr",
     "output_type": "stream",
     "text": [
      "/home/acampbell/.local/lib/python3.6/site-packages/refet/calcs.py:569: RuntimeWarning: invalid value encountered in minimum\n",
      "  kd = np.minimum(-0.36 * kb + 0.35, 0.82 * kb + 0.18)\n",
      "/home/acampbell/.local/lib/python3.6/site-packages/refet/calcs.py:653: RuntimeWarning: invalid value encountered in greater\n",
      "  fcd[rso > 0] = 1.35 * np.clip(rs[rso > 0] / rso[rso > 0], 0.3, 1) - 0.35\n",
      "/home/acampbell/.local/lib/python3.6/site-packages/refet/hourly.py:209: RuntimeWarning: invalid value encountered in less\n",
      "  self.cd[self.rn < 0] = 0.96\n",
      "/home/acampbell/.local/lib/python3.6/site-packages/refet/hourly.py:210: RuntimeWarning: invalid value encountered in less\n",
      "  self.g_rn[self.rn < 0] = 0.5\n"
     ]
    }
   ],
   "source": [
    "hourly['ETo mm/hr'] = refet.Hourly(\n",
    "    tmean=tmean, ea=ea, rs=rs, uz=uz, zw=zw, elev=elev,\n",
    "    lat=lat, lon=lon, doy=doy, time=time, method=method,\n",
    "    input_units=input_units).eto()"
   ]
  },
  {
   "cell_type": "code",
   "execution_count": 8,
   "metadata": {},
   "outputs": [
    {
     "data": {
      "text/plain": [
       "2018-05-21 13:00:00    0.231157\n",
       "2018-05-21 14:00:00    0.374053\n",
       "2018-05-21 15:00:00    0.509361\n",
       "2018-05-21 16:00:00    0.369926\n",
       "2018-05-21 17:00:00    0.259247\n",
       "2018-05-21 18:00:00    0.105401\n",
       "2018-05-21 19:00:00    0.069564\n",
       "2018-05-21 20:00:00    0.043330\n",
       "2018-05-21 21:00:00    0.080827\n",
       "2018-05-21 22:00:00    0.041810\n",
       "2018-05-21 23:00:00    0.045603\n",
       "2018-05-22 00:00:00    0.040416\n",
       "2018-05-22 01:00:00    0.032979\n",
       "2018-05-22 02:00:00    0.029081\n",
       "2018-05-22 03:00:00    0.028652\n",
       "2018-05-22 04:00:00    0.028693\n",
       "2018-05-22 05:00:00    0.006047\n",
       "2018-05-22 06:00:00    0.028396\n",
       "2018-05-22 07:00:00    0.096510\n",
       "2018-05-22 08:00:00    0.169598\n",
       "2018-05-22 09:00:00    0.205775\n",
       "2018-05-22 10:00:00    0.358132\n",
       "2018-05-22 11:00:00    0.592278\n",
       "2018-05-22 12:00:00    0.167790\n",
       "2018-05-22 13:00:00    0.294221\n",
       "2018-05-22 14:00:00    0.177883\n",
       "2018-05-22 15:00:00    0.170776\n",
       "2018-05-22 16:00:00    0.403053\n",
       "2018-05-22 17:00:00    0.175729\n",
       "2018-05-22 18:00:00    0.127562\n",
       "                         ...   \n",
       "2018-05-31 07:00:00    0.004274\n",
       "2018-05-31 08:00:00    0.107133\n",
       "2018-05-31 09:00:00    0.233682\n",
       "2018-05-31 10:00:00    0.405985\n",
       "2018-05-31 11:00:00    0.557576\n",
       "2018-05-31 12:00:00    0.686317\n",
       "2018-05-31 13:00:00    0.620093\n",
       "2018-05-31 14:00:00    0.600967\n",
       "2018-05-31 15:00:00    0.593458\n",
       "2018-05-31 16:00:00    0.555813\n",
       "2018-05-31 17:00:00    0.476849\n",
       "2018-05-31 18:00:00    0.348717\n",
       "2018-05-31 19:00:00    0.354758\n",
       "2018-05-31 20:00:00    0.196110\n",
       "2018-05-31 21:00:00    0.134667\n",
       "2018-05-31 22:00:00    0.129522\n",
       "2018-05-31 23:00:00    0.089224\n",
       "2018-06-01 00:00:00    0.061625\n",
       "2018-06-01 01:00:00    0.046680\n",
       "2018-06-01 02:00:00    0.047265\n",
       "2018-06-01 03:00:00    0.057102\n",
       "2018-06-01 04:00:00    0.029544\n",
       "2018-06-01 05:00:00   -0.009370\n",
       "2018-06-01 06:00:00    0.021102\n",
       "2018-06-01 07:00:00    0.027351\n",
       "2018-06-01 08:00:00    0.048356\n",
       "2018-06-01 09:00:00    0.159864\n",
       "2018-06-01 10:00:00    0.204799\n",
       "2018-06-01 11:00:00    0.451969\n",
       "2018-06-01 12:00:00    0.588322\n",
       "Freq: H, Name: ETo mm/hr, Length: 264, dtype: float64"
      ]
     },
     "execution_count": 8,
     "metadata": {},
     "output_type": "execute_result"
    }
   ],
   "source": [
    "hourly['ETo mm/hr']"
   ]
  },
  {
   "cell_type": "code",
   "execution_count": null,
   "metadata": {},
   "outputs": [],
   "source": []
  },
  {
   "cell_type": "markdown",
   "metadata": {},
   "source": [
    "# Sum ET output per day"
   ]
  },
  {
   "cell_type": "code",
   "execution_count": 9,
   "metadata": {},
   "outputs": [
    {
     "name": "stdout",
     "output_type": "stream",
     "text": [
      "2018-05-25    6.067844\n",
      "2018-05-26    5.735536\n",
      "2018-05-27    3.357657\n",
      "2018-05-28    4.016418\n",
      "2018-05-29    4.771153\n",
      "2018-05-30    5.404688\n",
      "2018-05-31    6.310179\n",
      "2018-06-01    3.202352\n",
      "Freq: D, Name: ETo mm/hr, dtype: float64 \n",
      " 2018-05-25    6.067844\n",
      "2018-05-26    5.735536\n",
      "2018-05-27    3.357657\n",
      "2018-05-28    4.016418\n",
      "2018-05-29    4.771153\n",
      "2018-05-30    5.404688\n",
      "2018-05-31    6.310179\n",
      "2018-06-01    1.734607\n",
      "Freq: D, Name: ETo mm/hr, dtype: float64\n"
     ]
    }
   ],
   "source": [
    "daily_totals = hourly['ETo mm/hr']['2018-05-25':'2018-06-01'].resample('D').mean()*24\n",
    "print(daily_totals,'\\n',hourly['ETo mm/hr']['2018-05-25':'2018-06-01'].resample('D').sum())"
   ]
  },
  {
   "cell_type": "code",
   "execution_count": 10,
   "metadata": {},
   "outputs": [
    {
     "data": {
      "text/plain": [
       "5.4953400891898445"
      ]
     },
     "execution_count": 10,
     "metadata": {},
     "output_type": "execute_result"
    }
   ],
   "source": [
    "daily_totals['2018-05-29':'2018-05-31'].mean()"
   ]
  },
  {
   "cell_type": "code",
   "execution_count": null,
   "metadata": {},
   "outputs": [],
   "source": []
  }
 ],
 "metadata": {
  "kernelspec": {
   "display_name": "Python 3",
   "language": "python",
   "name": "python3"
  },
  "language_info": {
   "codemirror_mode": {
    "name": "ipython",
    "version": 3
   },
   "file_extension": ".py",
   "mimetype": "text/x-python",
   "name": "python",
   "nbconvert_exporter": "python",
   "pygments_lexer": "ipython3",
   "version": "3.6.5"
  }
 },
 "nbformat": 4,
 "nbformat_minor": 2
}
